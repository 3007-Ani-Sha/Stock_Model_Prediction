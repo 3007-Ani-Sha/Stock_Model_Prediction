{
  "nbformat": 4,
  "nbformat_minor": 0,
  "metadata": {
    "colab": {
      "name": "Stock_Prediction_for_Facebook.ipynb",
      "provenance": []
    },
    "kernelspec": {
      "name": "python3",
      "display_name": "Python 3"
    },
    "language_info": {
      "name": "python"
    },
    "accelerator": "GPU",
    "gpuClass": "standard"
  },
  "cells": [
    {
      "cell_type": "code",
      "execution_count": null,
      "metadata": {
        "id": "NDsM7j-tO9HU"
      },
      "outputs": [],
      "source": [
        "import os\n",
        "from sklearn.preprocessing import MinMaxScaler\n",
        "import tensorflow as tf\n",
        "import numpy as np\n",
        "import matplotlib.pyplot as plt\n",
        "import pandas as pd\n",
        "from keras.models import Sequential\n",
        "from keras.layers import LSTM, Dense, Dropout"
      ]
    },
    {
      "cell_type": "code",
      "source": [
        "from google.colab import files\n",
        "upload = files.upload()"
      ],
      "metadata": {
        "colab": {
          "resources": {
            "http://localhost:8080/nbextensions/google.colab/files.js": {
              "data": "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",
              "ok": true,
              "headers": [
                [
                  "content-type",
                  "application/javascript"
                ]
              ],
              "status": 200,
              "status_text": ""
            }
          },
          "base_uri": "https://localhost:8080/",
          "height": 73
        },
        "id": "fqHsh7-KPkZk",
        "outputId": "18744c83-eae0-410b-fa0b-84687c5a28e2"
      },
      "execution_count": null,
      "outputs": [
        {
          "output_type": "display_data",
          "data": {
            "text/plain": [
              "<IPython.core.display.HTML object>"
            ],
            "text/html": [
              "\n",
              "     <input type=\"file\" id=\"files-12d1db4e-d11f-47cc-822a-204dcb44e68f\" name=\"files[]\" multiple disabled\n",
              "        style=\"border:none\" />\n",
              "     <output id=\"result-12d1db4e-d11f-47cc-822a-204dcb44e68f\">\n",
              "      Upload widget is only available when the cell has been executed in the\n",
              "      current browser session. Please rerun this cell to enable.\n",
              "      </output>\n",
              "      <script src=\"/nbextensions/google.colab/files.js\"></script> "
            ]
          },
          "metadata": {}
        },
        {
          "output_type": "stream",
          "name": "stdout",
          "text": [
            "Saving META (2).csv to META (2).csv\n"
          ]
        }
      ]
    },
    {
      "cell_type": "code",
      "source": [
        "d_train = pd.read_csv('META (2).csv')\n",
        "d_t = pd.read_csv('META (2).csv')\n",
        "print(d_train)"
      ],
      "metadata": {
        "colab": {
          "base_uri": "https://localhost:8080/"
        },
        "id": "4vBDYsnmhIA4",
        "outputId": "8ba1affb-1e97-4aa4-ecb2-3b3574ce1454"
      },
      "execution_count": null,
      "outputs": [
        {
          "output_type": "stream",
          "name": "stdout",
          "text": [
            "            Date        Open        High         Low       Close   Adj Close  \\\n",
            "0     2012-06-21   31.670000   32.500000   31.510000   31.840000   31.840000   \n",
            "1     2012-06-22   32.410000   33.450001   32.060001   33.049999   33.049999   \n",
            "2     2012-06-25   32.860001   33.020000   31.549999   32.060001   32.060001   \n",
            "3     2012-06-26   32.689999   33.439999   32.500000   33.099998   33.099998   \n",
            "4     2012-06-27   32.459999   32.900002   31.900000   32.230000   32.230000   \n",
            "...          ...         ...         ...         ...         ...         ...   \n",
            "2510  2022-06-13  170.589996  172.580002  164.029999  164.259995  164.259995   \n",
            "2511  2022-06-14  166.029999  166.750000  161.360001  163.729996  163.729996   \n",
            "2512  2022-06-15  167.199997  172.160004  163.979996  169.350006  169.350006   \n",
            "2513  2022-06-16  163.720001  165.080002  159.610001  160.869995  160.869995   \n",
            "2514  2022-06-17  161.679993  165.899994  159.899994  163.740005  163.740005   \n",
            "\n",
            "        Volume  \n",
            "0     21875300  \n",
            "1     74834000  \n",
            "2     24352900  \n",
            "3     24858700  \n",
            "4     28568000  \n",
            "...        ...  \n",
            "2510  31749300  \n",
            "2511  27244300  \n",
            "2512  30008300  \n",
            "2513  26944100  \n",
            "2514  31295300  \n",
            "\n",
            "[2515 rows x 7 columns]\n"
          ]
        }
      ]
    },
    {
      "cell_type": "code",
      "source": [
        "t_set = d_train.iloc[:, 1:2].values\n",
        "\n",
        "print(t_set.shape)"
      ],
      "metadata": {
        "colab": {
          "base_uri": "https://localhost:8080/"
        },
        "id": "zSmcynelpcr9",
        "outputId": "ebbfb7a5-bf2a-4e30-fdbd-ea6948524ffa"
      },
      "execution_count": null,
      "outputs": [
        {
          "output_type": "stream",
          "name": "stdout",
          "text": [
            "(2515, 1)\n"
          ]
        }
      ]
    },
    {
      "cell_type": "code",
      "source": [
        "#Preprocessing using Scaling the Input data \n",
        "sc = MinMaxScaler(feature_range = (0, 1))\n",
        "t_set_scaled = sc.fit_transform(t_set)\n",
        "print(t_set_scaled)"
      ],
      "metadata": {
        "colab": {
          "base_uri": "https://localhost:8080/"
        },
        "id": "1QwMCRffxOp4",
        "outputId": "a805b808-e579-4606-a117-e5498272bb46"
      },
      "execution_count": null,
      "outputs": [
        {
          "output_type": "stream",
          "name": "stdout",
          "text": [
            "[[0.03737624]\n",
            " [0.03941144]\n",
            " [0.04064907]\n",
            " ...\n",
            " [0.41012101]\n",
            " [0.40055007]\n",
            " [0.39493948]]\n"
          ]
        }
      ]
    },
    {
      "cell_type": "code",
      "source": [
        "train_x = []\n",
        "train_y = []\n",
        "for i in range(60, 2515):\n",
        "  train_x.append(t_set_scaled[i-60:i, 0])\n",
        "  train_y.append(t_set_scaled[i, 0])\n",
        "train_x = np.array(train_x)\n",
        "train_y = np.array(train_y)\n",
        "print(train_x.shape)"
      ],
      "metadata": {
        "colab": {
          "base_uri": "https://localhost:8080/"
        },
        "id": "4jq_OaJoQmO9",
        "outputId": "d8182aa2-d927-4b48-aa61-ee326c8a2ee3"
      },
      "execution_count": null,
      "outputs": [
        {
          "output_type": "stream",
          "name": "stdout",
          "text": [
            "(2455, 60)\n"
          ]
        }
      ]
    },
    {
      "cell_type": "code",
      "source": [
        "print(train_y.shape)"
      ],
      "metadata": {
        "colab": {
          "base_uri": "https://localhost:8080/"
        },
        "id": "yNHZO-pLQX6S",
        "outputId": "23177984-9a15-4f77-d2f7-b5829a994d53"
      },
      "execution_count": null,
      "outputs": [
        {
          "output_type": "stream",
          "name": "stdout",
          "text": [
            "(2455,)\n"
          ]
        }
      ]
    },
    {
      "cell_type": "code",
      "source": [
        "#reshaping the train_x\n",
        "train_x = np.reshape(train_x, (train_x.shape[0], train_x.shape[1], 1))\n",
        "train_x.shape"
      ],
      "metadata": {
        "colab": {
          "base_uri": "https://localhost:8080/"
        },
        "id": "Hg-qjcF8Qsrm",
        "outputId": "0fc98a8d-a125-401f-a8a1-70dcf1f899b6"
      },
      "execution_count": null,
      "outputs": [
        {
          "output_type": "execute_result",
          "data": {
            "text/plain": [
              "(2455, 60, 1)"
            ]
          },
          "metadata": {},
          "execution_count": 9
        }
      ]
    },
    {
      "cell_type": "code",
      "source": [
        "Model = Sequential()\n",
        "\n",
        "Model.add(LSTM(units = 50, return_sequences = True, input_shape = (train_x.shape[1], 1)))\n",
        "Model.add(Dropout(0.25))\n",
        "\n",
        "Model.add(LSTM(units = 50, return_sequences = True))\n",
        "Model.add(Dropout(0.25))\n",
        "\n",
        "Model.add(LSTM(units = 50, return_sequences = True))\n",
        "Model.add(Dropout(0.25))\n",
        "\n",
        "Model.add(LSTM(units = 50, return_sequences=True))\n",
        "Model.add(Dropout(0.25))\n",
        "\n",
        "Model.add(LSTM(units = 50, return_sequences = True))\n",
        "Model.add(Dropout(0.25))\n",
        "\n",
        "Model.add(LSTM(units = 50))\n",
        "Model.add(Dropout(0.25))\n",
        "\n",
        "Model.add(Dense(units = 1))"
      ],
      "metadata": {
        "id": "sA5LZ4VSS6nO"
      },
      "execution_count": null,
      "outputs": []
    },
    {
      "cell_type": "code",
      "source": [
        "Model.compile(optimizer = 'adam', loss = 'mean_squared_error')\n",
        "Model.fit(train_x, train_y, epochs = 50, batch_size = 32)"
      ],
      "metadata": {
        "colab": {
          "base_uri": "https://localhost:8080/"
        },
        "id": "mo-pL-OPULK4",
        "outputId": "21f70f0c-2a5e-4d9c-ff2b-b1420c587f0d"
      },
      "execution_count": null,
      "outputs": [
        {
          "output_type": "stream",
          "name": "stdout",
          "text": [
            "Epoch 1/50\n",
            "77/77 [==============================] - 11s 21ms/step - loss: 0.0011\n",
            "Epoch 2/50\n",
            "77/77 [==============================] - 2s 20ms/step - loss: 0.0011\n",
            "Epoch 3/50\n",
            "77/77 [==============================] - 2s 20ms/step - loss: 8.2833e-04\n",
            "Epoch 4/50\n",
            "77/77 [==============================] - 2s 21ms/step - loss: 8.3720e-04\n",
            "Epoch 5/50\n",
            "77/77 [==============================] - 2s 20ms/step - loss: 8.9654e-04\n",
            "Epoch 6/50\n",
            "77/77 [==============================] - 2s 20ms/step - loss: 9.7071e-04\n",
            "Epoch 7/50\n",
            "77/77 [==============================] - 2s 20ms/step - loss: 8.8125e-04\n",
            "Epoch 8/50\n",
            "77/77 [==============================] - 2s 21ms/step - loss: 8.6943e-04\n",
            "Epoch 9/50\n",
            "77/77 [==============================] - 2s 20ms/step - loss: 9.8783e-04\n",
            "Epoch 10/50\n",
            "77/77 [==============================] - 2s 20ms/step - loss: 9.7038e-04\n",
            "Epoch 11/50\n",
            "77/77 [==============================] - 2s 20ms/step - loss: 9.1673e-04\n",
            "Epoch 12/50\n",
            "77/77 [==============================] - 2s 20ms/step - loss: 9.3157e-04\n",
            "Epoch 13/50\n",
            "77/77 [==============================] - 2s 20ms/step - loss: 9.2716e-04\n",
            "Epoch 14/50\n",
            "77/77 [==============================] - 2s 20ms/step - loss: 9.4685e-04\n",
            "Epoch 15/50\n",
            "77/77 [==============================] - 2s 20ms/step - loss: 8.8049e-04\n",
            "Epoch 16/50\n",
            "77/77 [==============================] - 2s 20ms/step - loss: 9.3728e-04\n",
            "Epoch 17/50\n",
            "77/77 [==============================] - 2s 20ms/step - loss: 8.7800e-04\n",
            "Epoch 18/50\n",
            "77/77 [==============================] - 2s 20ms/step - loss: 9.1940e-04\n",
            "Epoch 19/50\n",
            "77/77 [==============================] - 2s 20ms/step - loss: 8.3046e-04\n",
            "Epoch 20/50\n",
            "77/77 [==============================] - 2s 20ms/step - loss: 9.4694e-04\n",
            "Epoch 21/50\n",
            "77/77 [==============================] - 2s 20ms/step - loss: 9.5541e-04\n",
            "Epoch 22/50\n",
            "77/77 [==============================] - 2s 20ms/step - loss: 9.3107e-04\n",
            "Epoch 23/50\n",
            "77/77 [==============================] - 2s 20ms/step - loss: 8.0980e-04\n",
            "Epoch 24/50\n",
            "77/77 [==============================] - 2s 20ms/step - loss: 8.0856e-04\n",
            "Epoch 25/50\n",
            "77/77 [==============================] - 2s 20ms/step - loss: 7.6794e-04\n",
            "Epoch 26/50\n",
            "77/77 [==============================] - 2s 20ms/step - loss: 9.1111e-04\n",
            "Epoch 27/50\n",
            "77/77 [==============================] - 2s 20ms/step - loss: 9.5239e-04\n",
            "Epoch 28/50\n",
            "77/77 [==============================] - 2s 20ms/step - loss: 8.4961e-04\n",
            "Epoch 29/50\n",
            "77/77 [==============================] - 2s 20ms/step - loss: 8.2537e-04\n",
            "Epoch 30/50\n",
            "77/77 [==============================] - 2s 21ms/step - loss: 0.0011\n",
            "Epoch 31/50\n",
            "77/77 [==============================] - 2s 20ms/step - loss: 8.1251e-04\n",
            "Epoch 32/50\n",
            "77/77 [==============================] - 2s 20ms/step - loss: 9.6078e-04\n",
            "Epoch 33/50\n",
            "77/77 [==============================] - 2s 21ms/step - loss: 7.9710e-04\n",
            "Epoch 34/50\n",
            "77/77 [==============================] - 2s 21ms/step - loss: 9.3995e-04\n",
            "Epoch 35/50\n",
            "77/77 [==============================] - 2s 20ms/step - loss: 8.5605e-04\n",
            "Epoch 36/50\n",
            "77/77 [==============================] - 2s 20ms/step - loss: 8.7479e-04\n",
            "Epoch 37/50\n",
            "77/77 [==============================] - 2s 20ms/step - loss: 8.6295e-04\n",
            "Epoch 38/50\n",
            "77/77 [==============================] - 2s 20ms/step - loss: 8.0075e-04\n",
            "Epoch 39/50\n",
            "77/77 [==============================] - 2s 21ms/step - loss: 8.2979e-04\n",
            "Epoch 40/50\n",
            "77/77 [==============================] - 2s 20ms/step - loss: 8.0230e-04\n",
            "Epoch 41/50\n",
            "77/77 [==============================] - 2s 20ms/step - loss: 0.0010\n",
            "Epoch 42/50\n",
            "77/77 [==============================] - 2s 20ms/step - loss: 7.8516e-04\n",
            "Epoch 43/50\n",
            "77/77 [==============================] - 2s 20ms/step - loss: 7.9851e-04\n",
            "Epoch 44/50\n",
            "77/77 [==============================] - 2s 20ms/step - loss: 8.1260e-04\n",
            "Epoch 45/50\n",
            "77/77 [==============================] - 2s 20ms/step - loss: 9.0005e-04\n",
            "Epoch 46/50\n",
            "77/77 [==============================] - 2s 20ms/step - loss: 9.4181e-04\n",
            "Epoch 47/50\n",
            "77/77 [==============================] - 2s 20ms/step - loss: 7.9137e-04\n",
            "Epoch 48/50\n",
            "77/77 [==============================] - 2s 20ms/step - loss: 8.2675e-04\n",
            "Epoch 49/50\n",
            "77/77 [==============================] - 2s 20ms/step - loss: 8.9043e-04\n",
            "Epoch 50/50\n",
            "77/77 [==============================] - 2s 20ms/step - loss: 8.4486e-04\n"
          ]
        },
        {
          "output_type": "execute_result",
          "data": {
            "text/plain": [
              "<keras.callbacks.History at 0x7fe20fb5c7d0>"
            ]
          },
          "metadata": {},
          "execution_count": 68
        }
      ]
    },
    {
      "cell_type": "code",
      "source": [
        "test = pd.read_csv(\"META (2).csv\")\n",
        "ac_stock_pr = test.iloc[:, 1:2].values\n",
        "\n",
        "df = pd.concat((d_train['Open'], test['Open']), axis = 0)\n",
        "df.shape\n",
        "df[0]"
      ],
      "metadata": {
        "colab": {
          "base_uri": "https://localhost:8080/"
        },
        "id": "ubtTN5k9Ug6J",
        "outputId": "d989ce54-789e-4f8d-e232-5acf97bff9c0"
      },
      "execution_count": null,
      "outputs": [
        {
          "output_type": "execute_result",
          "data": {
            "text/plain": [
              "0    31.67\n",
              "0    31.67\n",
              "Name: Open, dtype: float64"
            ]
          },
          "metadata": {},
          "execution_count": 69
        }
      ]
    },
    {
      "cell_type": "code",
      "source": [
        "inp = df[len(df) - len(test) - 60:].values\n",
        "\n",
        "inp_r = inp.reshape(-1, 1)\n",
        "\n",
        "inp_sc = sc.transform(inp_r)\n",
        "print(inp_sc.shape)\n",
        "\n",
        "test_x = []\n",
        "for x in range(60, 2515):\n",
        "  test_x.append(inp_sc[x-60:x])\n",
        "test_x = np.array(test_x)"
      ],
      "metadata": {
        "colab": {
          "base_uri": "https://localhost:8080/"
        },
        "id": "LhLYBpb3lDZo",
        "outputId": "4b67e87f-3764-4467-e062-7b9ae686f068"
      },
      "execution_count": null,
      "outputs": [
        {
          "output_type": "stream",
          "name": "stdout",
          "text": [
            "(2575, 1)\n"
          ]
        }
      ]
    },
    {
      "cell_type": "code",
      "source": [
        "print(test_x) \n",
        "test_x = np.reshape(test_x, (test_x.shape[0], test_x.shape[1], 1))"
      ],
      "metadata": {
        "colab": {
          "base_uri": "https://localhost:8080/"
        },
        "id": "I_d4sZM6mAlk",
        "outputId": "13d74524-5836-4b7b-eed6-4241d480d7d1"
      },
      "execution_count": null,
      "outputs": [
        {
          "output_type": "stream",
          "name": "stdout",
          "text": [
            "[[[0.54158417]\n",
            "  [0.55673817]\n",
            "  [0.56119364]\n",
            "  ...\n",
            "  [0.41012101]\n",
            "  [0.40055007]\n",
            "  [0.39493948]]\n",
            "\n",
            " [[0.55673817]\n",
            "  [0.56119364]\n",
            "  [0.57202973]\n",
            "  ...\n",
            "  [0.40055007]\n",
            "  [0.39493948]\n",
            "  [0.03737624]]\n",
            "\n",
            " [[0.56119364]\n",
            "  [0.57202973]\n",
            "  [0.57984051]\n",
            "  ...\n",
            "  [0.39493948]\n",
            "  [0.03737624]\n",
            "  [0.03941144]]\n",
            "\n",
            " ...\n",
            "\n",
            " [[0.86831682]\n",
            "  [0.85814085]\n",
            "  [0.88220575]\n",
            "  ...\n",
            "  [0.48575358]\n",
            "  [0.5050055 ]\n",
            "  [0.51875688]]\n",
            "\n",
            " [[0.85814085]\n",
            "  [0.88220575]\n",
            "  [0.90360289]\n",
            "  ...\n",
            "  [0.5050055 ]\n",
            "  [0.51875688]\n",
            "  [0.54020903]]\n",
            "\n",
            " [[0.88220575]\n",
            "  [0.90360289]\n",
            "  [0.90437297]\n",
            "  ...\n",
            "  [0.51875688]\n",
            "  [0.54020903]\n",
            "  [0.53160066]]]\n"
          ]
        }
      ]
    },
    {
      "cell_type": "code",
      "source": [
        "prediction = Model.predict(test_x)\n",
        "prediction = sc.inverse_transform(prediction)\n",
        "print(prediction)"
      ],
      "metadata": {
        "colab": {
          "base_uri": "https://localhost:8080/"
        },
        "id": "FECm3-OHmB_Y",
        "outputId": "175b5aa8-859e-4511-8f6d-1d44fff8b06a"
      },
      "execution_count": null,
      "outputs": [
        {
          "output_type": "stream",
          "name": "stdout",
          "text": [
            "[[161.38712]\n",
            " [126.53304]\n",
            " [ 95.01052]\n",
            " ...\n",
            " [198.16252]\n",
            " [204.82343]\n",
            " [206.53322]]\n"
          ]
        }
      ]
    },
    {
      "cell_type": "code",
      "source": [
        "plt.plot(ac_stock_pr, color = 'red' ,label = 'Correct Stock Price')\n",
        "plt.plot(prediction, color = 'green', label = 'Prediction')\n",
        "plt.xlim(-2, 20)\n",
        "plt.legend()"
      ],
      "metadata": {
        "colab": {
          "base_uri": "https://localhost:8080/",
          "height": 282
        },
        "id": "uKfuMdvHq7HM",
        "outputId": "3cb6e781-4ae5-4cb0-becb-1aecf1bc63c3"
      },
      "execution_count": null,
      "outputs": [
        {
          "output_type": "execute_result",
          "data": {
            "text/plain": [
              "<matplotlib.legend.Legend at 0x7fe20c5f6490>"
            ]
          },
          "metadata": {},
          "execution_count": 91
        },
        {
          "output_type": "display_data",
          "data": {
            "text/plain": [
              "<Figure size 432x288 with 1 Axes>"
            ],
            "image/png": "[encoded data removed]"
          },
          "metadata": {
            "needs_background": "light"
          }
        }
      ]
    },
    {
      "cell_type": "code",
      "source": [
        "print(ac_stock_pr.shape)\n",
        "test_y = ac_stock_pr[60:]\n",
        "print(test_y)\n",
        "score = Model.evaluate(test_x, test_y, verbose = 0)\n",
        "\n",
        "print(score) "
      ],
      "metadata": {
        "colab": {
          "base_uri": "https://localhost:8080/"
        },
        "id": "-7eQW9RnCB6O",
        "outputId": "996735d4-2c6f-400e-ce01-0af4a73e66c4"
      },
      "execution_count": null,
      "outputs": [
        {
          "output_type": "stream",
          "name": "stdout",
          "text": [
            "(2515, 1)\n",
            "[[ 22.67    ]\n",
            " [ 21.6     ]\n",
            " [ 21.99    ]\n",
            " ...\n",
            " [167.199997]\n",
            " [163.720001]\n",
            " [161.679993]]\n",
            "30769.90625\n"
          ]
        }
      ]
    },
    {
      "cell_type": "code",
      "source": [
        "def Acc_(A, B):\n",
        "  acc = 0\n",
        "  x = 0\n",
        "  for i in range(len(A)):\n",
        "    x = x + 1\n",
        "    acc = acc + (abs(A[i] - B[i]))/A[i]\n",
        "  return (acc)/x"
      ],
      "metadata": {
        "id": "25k5BmXTEM7Q"
      },
      "execution_count": null,
      "outputs": []
    },
    {
      "cell_type": "code",
      "source": [
        "print(Acc_(prediction[:20], ac_stock_pr[:20]))#Accuracy"
      ],
      "metadata": {
        "colab": {
          "base_uri": "https://localhost:8080/"
        },
        "id": "EYK66WqlNk0A",
        "outputId": "bfb26dac-1cf1-497a-97ad-33609c8e18c0"
      },
      "execution_count": null,
      "outputs": [
        {
          "output_type": "stream",
          "name": "stdout",
          "text": [
            "[0.44595032]\n"
          ]
        }
      ]
    },
    {
      "cell_type": "code",
      "source": [
        ""
      ],
      "metadata": {
        "id": "XgR3_J1TgM83"
      },
      "execution_count": null,
      "outputs": []
    }
  ]
}